{
 "cells": [
  {
   "cell_type": "code",
   "execution_count": 1,
   "metadata": {},
   "outputs": [],
   "source": [
    "def binaryTree(r):\n",
    "    return [r,[],[]]"
   ]
  },
  {
   "cell_type": "code",
   "execution_count": 26,
   "metadata": {},
   "outputs": [],
   "source": [
    "def insertLeft(root,newBranch):\n",
    "    t=root.pop(1)\n",
    "    if len(t)>1:\n",
    "        root.insert(1,[newBranch,t,[]])\n",
    "    else:\n",
    "        root.insert(1,[newBranch,[],[]])\n",
    "    return root"
   ]
  },
  {
   "cell_type": "code",
   "execution_count": 27,
   "metadata": {},
   "outputs": [],
   "source": [
    "def insertRight(root,newBranch):\n",
    "    t=root.pop(2)\n",
    "    if len(t)>1:\n",
    "        root.insert(2,[newBranch,[],t])\n",
    "    else:\n",
    "        root.insert(2,[newBranch,[],[]])\n",
    "    return root"
   ]
  },
  {
   "cell_type": "code",
   "execution_count": 28,
   "metadata": {},
   "outputs": [],
   "source": [
    "def getRootVal(root):\n",
    "    return root[0]"
   ]
  },
  {
   "cell_type": "code",
   "execution_count": 29,
   "metadata": {},
   "outputs": [],
   "source": [
    "def setRootVal(root,val):\n",
    "    root[0]=val"
   ]
  },
  {
   "cell_type": "code",
   "execution_count": 30,
   "metadata": {},
   "outputs": [],
   "source": [
    "def getLeftChild(root):\n",
    "    return root[1]"
   ]
  },
  {
   "cell_type": "code",
   "execution_count": 32,
   "metadata": {},
   "outputs": [],
   "source": [
    "def getRightChild(root):\n",
    "    return root[2]"
   ]
  },
  {
   "cell_type": "code",
   "execution_count": 33,
   "metadata": {},
   "outputs": [],
   "source": [
    "r=binaryTree(3)"
   ]
  },
  {
   "cell_type": "code",
   "execution_count": 34,
   "metadata": {},
   "outputs": [
    {
     "data": {
      "text/plain": [
       "[3, [4, [], []], []]"
      ]
     },
     "execution_count": 34,
     "metadata": {},
     "output_type": "execute_result"
    }
   ],
   "source": [
    "insertLeft(r,4)"
   ]
  },
  {
   "cell_type": "code",
   "execution_count": 35,
   "metadata": {},
   "outputs": [
    {
     "data": {
      "text/plain": [
       "[3, [3, [4, [], []], []], []]"
      ]
     },
     "execution_count": 35,
     "metadata": {},
     "output_type": "execute_result"
    }
   ],
   "source": [
    "insertLeft(r,3)"
   ]
  },
  {
   "cell_type": "code",
   "execution_count": 36,
   "metadata": {},
   "outputs": [
    {
     "data": {
      "text/plain": [
       "[8, [3, [4, [], []], []], []]"
      ]
     },
     "execution_count": 36,
     "metadata": {},
     "output_type": "execute_result"
    }
   ],
   "source": [
    "setRootVal(r,8)\n",
    "r"
   ]
  },
  {
   "cell_type": "code",
   "execution_count": 56,
   "metadata": {},
   "outputs": [],
   "source": [
    "class BinaryTree(object):\n",
    "    def __init__(self,rootObj):\n",
    "        self.key=rootObj\n",
    "        self.leftChild=None\n",
    "        self.rightChild=None\n",
    "        \n",
    "    def insertLeft(self,newNode):\n",
    "        t=BinaryTree(newNode)\n",
    "        if self.leftChild==None:\n",
    "            self.leftChild=t\n",
    "        else:\n",
    "            t.leftChild=self.leftChild\n",
    "            self.leftChild=t\n",
    "    \n",
    "    def insertRight(self,newNode):\n",
    "        t=BinaryTree(newNode)\n",
    "        if self.rightChild==None:\n",
    "            self.rightChild=t\n",
    "        else:\n",
    "            t.rightChild=self.rightChild\n",
    "            self.rightChild=t\n",
    "    \n",
    "    def getLeftChild(self):\n",
    "        return self.leftChild\n",
    "    \n",
    "    def getRightChild(self):\n",
    "        return self.rightChild\n",
    "    \n",
    "    def setRootVal(self,val):\n",
    "        self.key=val\n",
    "        \n",
    "    def getRootVal(self):\n",
    "        return self.key"
   ]
  },
  {
   "cell_type": "code",
   "execution_count": 57,
   "metadata": {},
   "outputs": [],
   "source": [
    "a=BinaryTree('a')"
   ]
  },
  {
   "cell_type": "code",
   "execution_count": 59,
   "metadata": {},
   "outputs": [
    {
     "data": {
      "text/plain": [
       "'a'"
      ]
     },
     "execution_count": 59,
     "metadata": {},
     "output_type": "execute_result"
    }
   ],
   "source": [
    "a.getRootVal()"
   ]
  },
  {
   "cell_type": "code",
   "execution_count": 61,
   "metadata": {},
   "outputs": [
    {
     "name": "stdout",
     "output_type": "stream",
     "text": [
      "None\n"
     ]
    }
   ],
   "source": [
    "print(a.getLeftChild())"
   ]
  },
  {
   "cell_type": "code",
   "execution_count": 62,
   "metadata": {},
   "outputs": [
    {
     "data": {
      "text/plain": [
       "'b'"
      ]
     },
     "execution_count": 62,
     "metadata": {},
     "output_type": "execute_result"
    }
   ],
   "source": [
    "a.insertLeft('b')\n",
    "a.getLeftChild().getRootVal()"
   ]
  },
  {
   "cell_type": "code",
   "execution_count": 63,
   "metadata": {},
   "outputs": [
    {
     "data": {
      "text/plain": [
       "'c'"
      ]
     },
     "execution_count": 63,
     "metadata": {},
     "output_type": "execute_result"
    }
   ],
   "source": [
    "a.insertLeft('c')\n",
    "a.getLeftChild().getRootVal()"
   ]
  },
  {
   "cell_type": "code",
   "execution_count": 66,
   "metadata": {},
   "outputs": [
    {
     "data": {
      "text/plain": [
       "'b'"
      ]
     },
     "execution_count": 66,
     "metadata": {},
     "output_type": "execute_result"
    }
   ],
   "source": [
    "a.getLeftChild().getLeftChild().getRootVal()"
   ]
  },
  {
   "cell_type": "code",
   "execution_count": 67,
   "metadata": {},
   "outputs": [],
   "source": [
    "#tree traversal\n",
    "def preorder(tree):\n",
    "    if tree:\n",
    "        print(tree.getRootVal())\n",
    "        preorder(tree.getLeftChild())\n",
    "        preorder(tree.getRightChild())\n",
    "        \n",
    "def inorder(tree):\n",
    "    if tree:\n",
    "        inorder(tree.getLeftChild())\n",
    "        print(tree.getRootVal())\n",
    "        inorder(tree.getRightChild())\n",
    "        \n",
    "def postorder(tree):\n",
    "    if tree:\n",
    "        postorder(tree.getLeftChild())\n",
    "        postorder(tree.getRightChild())\n",
    "        print(tree.getRootVal())"
   ]
  },
  {
   "cell_type": "code",
   "execution_count": 2,
   "metadata": {},
   "outputs": [],
   "source": [
    "class BinMinHeap(object):\n",
    "    \n",
    "    def __init__(self):\n",
    "        self.heapList=[0]\n",
    "        self.size=0\n",
    "        \n",
    "    def percUp(self,i):\n",
    "        if i<=self.size:\n",
    "            while i//2>=1:\n",
    "                if self.heap[i]<self.heap[i//2]:\n",
    "                    self.heap[i],self.heap[i//2]=self.heap[i//2],self.heap[i]\n",
    "                i=i//2\n",
    "    \n",
    "    def insert(self,k):\n",
    "        self.size+=1\n",
    "        self.heapList.append(k)\n",
    "        self.percUp(self.size)\n",
    "    \n",
    "    def percDown(self,i):\n",
    "        while 2*i<=self.size:\n",
    "            mc=self.minChild(i)\n",
    "            if self.heapList[i]>self.heapList[mc]:\n",
    "                self.heapList[i],self.heapList[mc]=self.heapList[mc],self.heapList[i]\n",
    "            i=mc\n",
    "    \n",
    "    def minChild(self,i):\n",
    "        if 2*i>self.size:\n",
    "            return None\n",
    "        if 2*i+1>self.size:\n",
    "            return 2*i\n",
    "        if self.heapList[2*i]>=self.heapList[2*i+1]:\n",
    "            return 2*i+1\n",
    "        else:\n",
    "            return 2*i\n",
    "    \n",
    "    def delMin(self):\n",
    "        retval=self.heapList[1]\n",
    "        self.heapList[1]=self.heapList[-1]\n",
    "        self.heapList.pop()\n",
    "        self.size-=1\n",
    "        self.percDown(1)\n",
    "        return retval\n",
    "    \n",
    "    def buildHeap(self,alist):\n",
    "        self.heapList=[0]+alist[:]\n",
    "        self.size=len(alist)\n",
    "        i=self.size//2\n",
    "        while i>0:\n",
    "            self.percDown(i)\n",
    "            i-=1"
   ]
  },
  {
   "cell_type": "code",
   "execution_count": 4,
   "metadata": {},
   "outputs": [
    {
     "name": "stdout",
     "output_type": "stream",
     "text": [
      "None\n"
     ]
    }
   ],
   "source": [
    "a=None\n",
    "print(a)"
   ]
  },
  {
   "cell_type": "code",
   "execution_count": 17,
   "metadata": {},
   "outputs": [
    {
     "data": {
      "text/plain": [
       "False"
      ]
     },
     "execution_count": 17,
     "metadata": {},
     "output_type": "execute_result"
    }
   ],
   "source": [
    "None==False"
   ]
  },
  {
   "cell_type": "code",
   "execution_count": 18,
   "metadata": {},
   "outputs": [
    {
     "data": {
      "text/plain": [
       "True"
      ]
     },
     "execution_count": 18,
     "metadata": {},
     "output_type": "execute_result"
    }
   ],
   "source": [
    "8 and True"
   ]
  },
  {
   "cell_type": "code",
   "execution_count": 19,
   "metadata": {},
   "outputs": [
    {
     "data": {
      "text/plain": [
       "False"
      ]
     },
     "execution_count": 19,
     "metadata": {},
     "output_type": "execute_result"
    }
   ],
   "source": [
    "8 and False"
   ]
  },
  {
   "cell_type": "code",
   "execution_count": 25,
   "metadata": {},
   "outputs": [
    {
     "name": "stdout",
     "output_type": "stream",
     "text": [
      "None\n"
     ]
    }
   ],
   "source": [
    "print(None and False)"
   ]
  },
  {
   "cell_type": "code",
   "execution_count": 26,
   "metadata": {},
   "outputs": [
    {
     "data": {
      "text/plain": [
       "True"
      ]
     },
     "execution_count": 26,
     "metadata": {},
     "output_type": "execute_result"
    }
   ],
   "source": [
    "not None"
   ]
  },
  {
   "cell_type": "code",
   "execution_count": 27,
   "metadata": {},
   "outputs": [
    {
     "data": {
      "text/plain": [
       "False"
      ]
     },
     "execution_count": 27,
     "metadata": {},
     "output_type": "execute_result"
    }
   ],
   "source": [
    "not (None or 8)"
   ]
  },
  {
   "cell_type": "code",
   "execution_count": 28,
   "metadata": {},
   "outputs": [
    {
     "data": {
      "text/plain": [
       "9"
      ]
     },
     "execution_count": 28,
     "metadata": {},
     "output_type": "execute_result"
    }
   ],
   "source": [
    "None or 9"
   ]
  },
  {
   "cell_type": "code",
   "execution_count": 30,
   "metadata": {},
   "outputs": [
    {
     "data": {
      "text/plain": [
       "False"
      ]
     },
     "execution_count": 30,
     "metadata": {},
     "output_type": "execute_result"
    }
   ],
   "source": [
    "not 9"
   ]
  },
  {
   "cell_type": "code",
   "execution_count": 39,
   "metadata": {},
   "outputs": [],
   "source": [
    "8 and None"
   ]
  },
  {
   "cell_type": "code",
   "execution_count": 1,
   "metadata": {},
   "outputs": [],
   "source": [
    "class TreeNode(object):\n",
    "    \n",
    "    def __init__(self,key,val,left=None,right=None,parent=None):\n",
    "        self.key=key\n",
    "        self.payload=val\n",
    "        self.leftChild=left\n",
    "        self.rightChild=right\n",
    "        self.parent=parent\n",
    "        \n",
    "    def hasLeftChild(self):\n",
    "        return self.leftChild\n",
    "    \n",
    "    def hasRightChild(self):\n",
    "        return self.rightChild\n",
    "    \n",
    "    def isLeftChild(self):\n",
    "        return self.parent and self.parent.leftChild==self\n",
    "    \n",
    "    def isRightChild(self):\n",
    "        return self.parent and self.parent.rightChild==self\n",
    "    \n",
    "    def isRoot(self):\n",
    "        return not self.parent #not something is false; not none is true\n",
    "    \n",
    "    def isLeaf(self):\n",
    "        return not self.leftChild or self.rightChild\n",
    "    \n",
    "    def hasAnyChildren(self):\n",
    "        return self.leftChild or self.rightChild\n",
    "    \n",
    "    def hasBothChildren(self):\n",
    "        return self.leftChild and self.rightChild\n",
    "    \n",
    "    def replaceNodeData(self,key,val,lc,rc):\n",
    "        self.key=key\n",
    "        self.payload=val\n",
    "        self.leftChild=lc\n",
    "        self.rightChild=rc\n",
    "        self.parent=p\n",
    "        if self.hasLeftChild():\n",
    "            self.leftChild.parent=self\n",
    "        if self.hasRightChild():\n",
    "            self.rightChild.parent=self\n",
    "        "
   ]
  },
  {
   "cell_type": "code",
   "execution_count": 2,
   "metadata": {},
   "outputs": [],
   "source": [
    "class BinarySearchTree(object):\n",
    "    \n",
    "    def __init__(self):\n",
    "        self.root=None\n",
    "        self.size=0\n",
    "        \n",
    "    def length(self):\n",
    "        return self.size\n",
    "    \n",
    "    def __len__(self):\n",
    "        return self.size\n",
    "    \n",
    "    def put(self,key,val):\n",
    "        if self.root:\n",
    "            self._put(key,val,self.root)   \n",
    "        else:\n",
    "            self.root=TreeNode(key,val)\n",
    "        self.size=self.size+1\n",
    "        \n",
    "    def _put(self,key,val,currentnode):\n",
    "        if key<currentnode.key:\n",
    "            if currentnode.hasLeftChild():\n",
    "                self._put(key,val,currentnode.leftChild)\n",
    "            else:\n",
    "                currentnode.leftChild=TreeNode(key,val,parent=currentnode)\n",
    "        else:\n",
    "            if currentnode.hasRightChild():\n",
    "                self._put(key,val,currentnode.rightChild)\n",
    "            else:\n",
    "                currentnode.rightChild=TreeNode(key,val,parent=currentnode)\n",
    "    \n",
    "    def __setitem__(self,k,v):\n",
    "        self.put(k,v)\n",
    "        \n",
    "    def get(self,key):\n",
    "        if self.root:\n",
    "            res=self._get(key,self.root)\n",
    "            if res:\n",
    "                return res.payload\n",
    "            else:\n",
    "                return None            \n",
    "        else:\n",
    "            return None\n",
    "        \n",
    "    def _get(self,key,currentnode):\n",
    "        if not currentnode:\n",
    "            return None\n",
    "        elif key==currentnode.key:\n",
    "            return currentnode\n",
    "        elif key<currentnode.key:\n",
    "            return self._get(key,currentnode.leftChild)\n",
    "        else:\n",
    "            return self._get(key,currentnode.rightChild)\n",
    "        \n",
    "    def __getitem__(self,key):\n",
    "        return self.get(key)\n",
    "    \n",
    "    def __conatains__(self,key):\n",
    "        if self._get(key,self.root):\n",
    "            return True\n",
    "        return False\n",
    "    \n",
    "    def delete(self,key):\n",
    "        if self.size>1:\n",
    "            nodeToRemove=self._get(key,self.root)\n",
    "            if nodeToRemove:\n",
    "                self.remove(nodeToRemove)\n",
    "                self.size-=1\n",
    "            else:\n",
    "                raise KeyError('Key not in tree')\n",
    "        elif self.size==1 and self.root.key==key:\n",
    "            self.root=None\n",
    "            self.size-=1\n",
    "        else:\n",
    "            raise KeyError('Key not in tree')\n",
    "            \n",
    "    def __delitem__(self,key):\n",
    "        self.delete(key)\n",
    "    \n",
    "    def findSuccessor(self):\n",
    "        succ=None\n",
    "        if self.hasRightChild():\n",
    "            succ=self.rightChild.findmin()\n",
    "        else:\n",
    "            if self.parent:\n",
    "                if self.isLeftChild():\n",
    "                    succ=self.parent\n",
    "                else:\n",
    "                    self.parent.rightChild=None\n",
    "                    succ=self.parent.findmin()\n",
    "                    self.parent.rightChild=self\n",
    "        return succ\n",
    "    \n",
    "    def findmin(self):\n",
    "        mc=self\n",
    "        while self.hasLeftChild():\n",
    "            mc=self.leftChild\n",
    "        return mc\n",
    "    \n",
    "    def spliceOut(self):\n",
    "        if self.isLeaf():\n",
    "            if self.isLeftChild():\n",
    "                self.parent.leftChild=None\n",
    "            else:\n",
    "                self.parent.rightChild=None\n",
    "        elif self.hasAnyChild():\n",
    "            if self.hasLeftChild():\n",
    "                if self.isLeftChild():\n",
    "                    self.parent.leftChild=self.leftChild\n",
    "                else:\n",
    "                    self.parent.rightChild=self.leftChild\n",
    "                self.leftChild.parent=self.parent\n",
    "            else:\n",
    "                if self.isLeftChild():\n",
    "                    self.parent.leftChild=self.righttChild\n",
    "                else:\n",
    "                    self.parent.rightChild=self.rightChild\n",
    "                self.rightChild.parent=self.parent\n",
    "                \n",
    "    def remove(self,currentnode):\n",
    "        if currentnode.isLeaf():\n",
    "            if currentnode.parent.rightChild==currentnode:\n",
    "                currentnode.parent.rightChild=None\n",
    "            else:\n",
    "                currentnode.parent.leftChild=None\n",
    "        elif currentnode.hasBothChildren():\n",
    "            succ=current.findSuccessor()\n",
    "            succ.spliceOut()\n",
    "            currentnode.key=succ.key\n",
    "            currentnode.payload=succ.payload\n",
    "        else: #has only one child, then promote it to replace the current node\n",
    "            if currentnode.isLeftChild():\n",
    "                if currentnode.hasLeftChild():\n",
    "                    currentnode.leftChild=currentnode.parent.leftChild\n",
    "                    currentnode.parent=currentnode.leftChild.parent\n",
    "                else:\n",
    "                    currentnode.rightChild=currentnode.parent.leftChild\n",
    "                    currentnode.parent=currentnode.rightChild.parent\n",
    "            elif currentnode.isRightChild():\n",
    "                if currentnode.hasLeftChild():\n",
    "                    currentnode.leftChild=currentnode.parent.rightChild\n",
    "                    currentnode.parent=currentnode.leftChild.parent\n",
    "                else:\n",
    "                    currentnode.rightChild=currentnode.parent.rightChild\n",
    "                    currentnode.parent=currentnode.rightChild.parent\n",
    "            else:\n",
    "                if currentnode.hasLeftChild():\n",
    "                    currentnode.replaceNodeData(currentnode.leftChild.key,currentnode.leftChild.payload,\n",
    "                                                currentnode.leftChild.leftChild,currentnode.leftChild.rightChild)\n",
    "                else:\n",
    "                    currentnode.replaceNodeData(currentnode.rightChild.key,currentnode.rightChild.payload,\n",
    "                                                currentnode.rightChild.leftChild,currentnode.rightChild.rightChild)\n",
    "            \n",
    "    "
   ]
  },
  {
   "cell_type": "code",
   "execution_count": 3,
   "metadata": {},
   "outputs": [
    {
     "name": "stdout",
     "output_type": "stream",
     "text": [
      "yellow\n",
      "at\n"
     ]
    }
   ],
   "source": [
    "mytree = BinarySearchTree()\n",
    "mytree[3]=\"red\"\n",
    "mytree[4]=\"blue\"\n",
    "mytree[6]=\"yellow\"\n",
    "mytree[2]=\"at\"\n",
    "\n",
    "print(mytree[6])\n",
    "print(mytree[2])"
   ]
  },
  {
   "cell_type": "code",
   "execution_count": 7,
   "metadata": {},
   "outputs": [
    {
     "data": {
      "text/plain": [
       "2"
      ]
     },
     "execution_count": 7,
     "metadata": {},
     "output_type": "execute_result"
    }
   ],
   "source": [
    "mytree.root.leftChild.key"
   ]
  },
  {
   "cell_type": "code",
   "execution_count": 10,
   "metadata": {},
   "outputs": [],
   "source": [
    "class TreeNode:\n",
    "    def __init__(self, val=0, left=None, right=None):\n",
    "        self.val =0 \n",
    "        self.left = left\n",
    "        self.right = right\n",
    "        \n",
    "def checkBST(root):\n",
    "    def checkNode(node,lower=float('-inf'),upper=float('inf')):\n",
    "        if not node:\n",
    "            return True\n",
    "        v=node.val\n",
    "        if v>=upper or v<=lower:\n",
    "            return False\n",
    "        if not (checkNode(node.left,lower,val) or checkNode(node.right,val,upper)):\n",
    "                return False\n",
    "        return True\n",
    "    return checkNode(root)"
   ]
  },
  {
   "cell_type": "code",
   "execution_count": null,
   "metadata": {},
   "outputs": [],
   "source": []
  }
 ],
 "metadata": {
  "kernelspec": {
   "display_name": "Python 3",
   "language": "python",
   "name": "python3"
  },
  "language_info": {
   "codemirror_mode": {
    "name": "ipython",
    "version": 3
   },
   "file_extension": ".py",
   "mimetype": "text/x-python",
   "name": "python",
   "nbconvert_exporter": "python",
   "pygments_lexer": "ipython3",
   "version": "3.7.6"
  }
 },
 "nbformat": 4,
 "nbformat_minor": 4
}
